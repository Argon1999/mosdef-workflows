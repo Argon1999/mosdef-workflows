{
 "cells": [
  {
   "cell_type": "code",
   "execution_count": 1,
   "metadata": {},
   "outputs": [],
   "source": [
    "import mbuild as mb\n",
    "from foyer import Forcefield"
   ]
  },
  {
   "cell_type": "code",
   "execution_count": 2,
   "metadata": {},
   "outputs": [
    {
     "name": "stderr",
     "output_type": "stream",
     "text": [
      "/Users/raymatsumoto/anaconda3/envs/mosdef36/lib/python3.6/site-packages/mdtraj/formats/mol2.py:203: FutureWarning: read_table is deprecated, use read_csv instead.\n",
      "  index_col=0, header=None, sep=\"\\s+\", engine='python')\n"
     ]
    }
   ],
   "source": [
    "water = mb.load('files/tip3p.mol2')\n",
    "water.name = 'SOL'"
   ]
  },
  {
   "cell_type": "code",
   "execution_count": 3,
   "metadata": {},
   "outputs": [],
   "source": [
    "c_ff = Forcefield('files/carbon.xml')\n",
    "spce = Forcefield('files/spce.xml')"
   ]
  },
  {
   "cell_type": "code",
   "execution_count": 4,
   "metadata": {},
   "outputs": [
    {
     "name": "stderr",
     "output_type": "stream",
     "text": [
      "/Users/raymatsumoto/mbuild/mbuild/lattice.py:526: UserWarning: Periodicity of non-rectangular lattices are not valid with default boxes. Only rectangular lattices are valid at this time.\n",
      "  warn('Periodicity of non-rectangular lattices are not valid with '\n",
      "/Users/raymatsumoto/mbuild/mbuild/box.py:34: UserWarning: Provided `lengths` and `mins` and/or `maxs`. Only `lengths` is being used. You provided: lengths=[1.9648     2.875      1.91426255] mins=None maxs=None\n",
      "  \"lengths={} mins={} maxs={}\".format(lengths, mins, maxs)\n",
      "/Users/raymatsumoto/mbuild/mbuild/box.py:34: UserWarning: Provided `lengths` and `mins` and/or `maxs`. Only `lengths` is being used. You provided: lengths=[4.9648     2.875      1.91426255] mins=None maxs=None\n",
      "  \"lengths={} mins={} maxs={}\".format(lengths, mins, maxs)\n"
     ]
    }
   ],
   "source": [
    "system = mb.recipes.GraphenePoreSolvent(pore_depth=2,side_dim=2,\n",
    "                    n_sheets=3,pore_width=1.2,x_bulk=1.5,\n",
    "                    solvent=water,n_solvent=300)\n",
    "box = mb.Box(system.periodicity)"
   ]
  },
  {
   "cell_type": "code",
   "execution_count": 5,
   "metadata": {},
   "outputs": [
    {
     "name": "stderr",
     "output_type": "stream",
     "text": [
      "/Users/raymatsumoto/anaconda3/envs/mosdef36/lib/python3.6/site-packages/parmed/openmm/topsystem.py:238: OpenMMWarning: Adding what seems to be Urey-Bradley terms before Angles. This is unexpected, but the parameters will all be present in one form or another.\n",
      "  'all be present in one form or another.', OpenMMWarning)\n"
     ]
    }
   ],
   "source": [
    "water = mb.Compound()\n",
    "graphene = mb.Compound()\n",
    "for child in system.children:\n",
    "    if child.name == 'SOL':\n",
    "        water.add(mb.clone(child))\n",
    "    else:\n",
    "        graphene.add(mb.clone(child))\n",
    "\n",
    "water_pmd = spce.apply(water, residues='SOL')           \n",
    "pore_pmd = c_ff.apply(graphene)"
   ]
  },
  {
   "cell_type": "code",
   "execution_count": 6,
   "metadata": {},
   "outputs": [],
   "source": [
    "system = water_pmd + pore_pmd\n",
    "system.box[:3] = box.maxs * 10.0\n",
    "system.save('init.gro', overwrite=True, combine='all')\n",
    "system.save('init.top', overwrite=True, combine='all')"
   ]
  },
  {
   "cell_type": "code",
   "execution_count": 7,
   "metadata": {},
   "outputs": [
    {
     "name": "stdout",
     "output_type": "stream",
     "text": [
      "                  :-) GROMACS - gmx grompp, VERSION 5.1.2 (-:\n",
      "\n",
      "                            GROMACS is written by:\n",
      "     Emile Apol      Rossen Apostolov  Herman J.C. Berendsen    Par Bjelkmar   \n",
      " Aldert van Buuren   Rudi van Drunen     Anton Feenstra   Sebastian Fritsch \n",
      "  Gerrit Groenhof   Christoph Junghans   Anca Hamuraru    Vincent Hindriksen\n",
      " Dimitrios Karkoulis    Peter Kasson        Jiri Kraus      Carsten Kutzner  \n",
      "    Per Larsson      Justin A. Lemkul   Magnus Lundborg   Pieter Meulenhoff \n",
      "   Erik Marklund      Teemu Murtola       Szilard Pall       Sander Pronk   \n",
      "   Roland Schulz     Alexey Shvetsov     Michael Shirts     Alfons Sijbers  \n",
      "   Peter Tieleman    Teemu Virolainen  Christian Wennberg    Maarten Wolf   \n",
      "                           and the project leaders:\n",
      "        Mark Abraham, Berk Hess, Erik Lindahl, and David van der Spoel\n",
      "\n",
      "Copyright (c) 1991-2000, University of Groningen, The Netherlands.\n",
      "Copyright (c) 2001-2015, The GROMACS development team at\n",
      "Uppsala University, Stockholm University and\n",
      "the Royal Institute of Technology, Sweden.\n",
      "check out http://www.gromacs.org for more information.\n",
      "\n",
      "GROMACS is free software; you can redistribute it and/or modify it\n",
      "under the terms of the GNU Lesser General Public License\n",
      "as published by the Free Software Foundation; either version 2.1\n",
      "of the License, or (at your option) any later version.\n",
      "\n",
      "GROMACS:      gmx grompp, VERSION 5.1.2\n",
      "Executable:   /Users/raymatsumoto/installs/gromacs-5.1.2/installs/bin/gmx\n",
      "Data prefix:  /Users/raymatsumoto/installs/gromacs-5.1.2/installs\n",
      "Command line:\n",
      "  gmx grompp -f files/nvt.mdp -c init.gro -p init.top -o nvt.tpr\n",
      "\n",
      "Ignoring obsolete mdp entry 'title'\n",
      "\n",
      "Back Off! I just backed up mdout.mdp to ./#mdout.mdp.3#\n",
      "\n",
      "NOTE 1 [file files/nvt.mdp]:\n",
      "  You have set rlist larger than the interaction cut-off, but you also have\n",
      "  verlet-buffer-tolerance > 0. Will set rlist using verlet-buffer-tolerance.\n",
      "\n",
      "Setting the LD random seed to 512938593\n",
      "Generated 6 of the 6 non-bonded parameter combinations\n",
      "Generating 1-4 interactions: fudge = 1\n",
      "Generated 6 of the 6 1-4 parameter combinations\n",
      "Excluding 3 bonded neighbours molecule type 'system'\n",
      "Setting gen_seed to 1757041739\n",
      "Velocities were taken from a Maxwell distribution at 300 K\n",
      "Removing all charge groups because cutoff-scheme=Verlet\n",
      "\n",
      "NOTE 2 [file init.top, line 3012]:\n",
      "  The bond in molecule-type system between atoms 1 O and 2 H has an\n",
      "  estimated oscillational period of 9.0e-03 ps, which is less than 10 times\n",
      "  the time step of 1.0e-03 ps.\n",
      "  Maybe you forgot to change the constraints mdp option.\n",
      "\n",
      "Analysing residue names:\n",
      "There are:   300      Water residues\n",
      "There are:     1      Other residues\n",
      "Analysing residues not classified as Protein/DNA/RNA/Water and splitting into groups...\n",
      "Number of degrees of freedom in T-Coupling group RES is 0.00\n",
      "Number of degrees of freedom in T-Coupling group SOL is 2697.00\n",
      "Determining Verlet buffer for a tolerance of 0.005 kJ/mol/ps at 300 K\n",
      "Calculated rlist for 1x1 atom pair-list as 0.806 nm, buffer size 0.006 nm\n",
      "Set rlist, assuming 4x4 atom pair-list, to 0.800 nm, buffer size 0.000 nm\n",
      "Note that mdrun will redetermine rlist based on the actual pair-list setup\n",
      "Calculating fourier grid dimensions for X Y Z\n",
      "Using a fourier grid of 52x32x20, spacing 0.095 0.090 0.096\n",
      "Estimate for the relative computational load of the PME mesh part: 0.51\n",
      "\n",
      "NOTE 3 [file files/nvt.mdp]:\n",
      "  The optimal PME mesh load for parallel simulations is below 0.5\n",
      "  and for highly parallel simulations between 0.25 and 0.33,\n",
      "  for higher performance, increase the cut-off and the PME grid spacing.\n",
      "\n",
      "\n",
      "This run will generate roughly 8 Mb of data\n",
      "\n",
      "There were 3 notes\n",
      "\n",
      "Back Off! I just backed up nvt.tpr to ./#nvt.tpr.1#\n",
      "\n",
      "gcq#207: \"Is That a Real Poncho ?\" (F. Zappa)\n",
      "\n"
     ]
    }
   ],
   "source": [
    "!gmx grompp -f files/nvt.mdp -c init.gro -p init.top -o nvt.tpr"
   ]
  },
  {
   "cell_type": "code",
   "execution_count": null,
   "metadata": {},
   "outputs": [],
   "source": [
    "!gmx mdrun -v -deffnm nvt"
   ]
  }
 ],
 "metadata": {
  "kernelspec": {
   "display_name": "Python 3",
   "language": "python",
   "name": "python3"
  },
  "language_info": {
   "codemirror_mode": {
    "name": "ipython",
    "version": 3
   },
   "file_extension": ".py",
   "mimetype": "text/x-python",
   "name": "python",
   "nbconvert_exporter": "python",
   "pygments_lexer": "ipython3",
   "version": "3.6.8"
  }
 },
 "nbformat": 4,
 "nbformat_minor": 2
}
