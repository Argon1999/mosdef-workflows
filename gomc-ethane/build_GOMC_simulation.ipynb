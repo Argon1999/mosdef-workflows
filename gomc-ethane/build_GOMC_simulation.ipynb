{
 "cells": [
  {
   "cell_type": "code",
   "execution_count": 70,
   "metadata": {},
   "outputs": [],
   "source": [
    "import mbuild as mb\n",
    "import foyer\n",
    "from mbuild.examples import Ethane\n",
    "import parmed\n",
    "import subprocess\n"
   ]
  },
  {
   "cell_type": "code",
   "execution_count": 71,
   "metadata": {},
   "outputs": [
    {
     "name": "stderr",
     "output_type": "stream",
     "text": [
      "/Users/ayang41/anaconda3/envs/py36/lib/python3.6/site-packages/parmed/openmm/topsystem.py:238: OpenMMWarning: Adding what seems to be Urey-Bradley terms before Angles. This is unexpected, but the parameters will all be present in one form or another.\n",
      "  'all be present in one form or another.', OpenMMWarning)\n"
     ]
    }
   ],
   "source": [
    "#cmpd = Ethane()\n",
    "#cmpd.name = 'Eth'\n",
    "cmpd = mb.Compound()\n",
    "part = mb.Particle(name='Ar')\n",
    "cmpd.add(part)\n",
    "cmpd.name='LJ'\n",
    "\n",
    "box = mb.fill_box(cmpd, n_compounds=10, box=[10,10,10])\n",
    "ff = foyer.Forcefield(forcefield_files='lj.xml')\n",
    "non_param = box.to_parmed(residues='LJ')\n",
    "param = ff.apply(non_param)\n"
   ]
  },
  {
   "cell_type": "code",
   "execution_count": 72,
   "metadata": {},
   "outputs": [],
   "source": [
    "def write_gomc_input(filename, parm_structure, coords='coords.pdb', \n",
    "                     structure='structure.psf', parameters='parameters.par',\n",
    "                    output='output'):\n",
    "    with open(filename, 'w') as f:\n",
    "        f.write(\"\"\" \n",
    "###########################################################################\n",
    "#  ========-------------------- INPUT --------------------------===========\n",
    "############################################################################\n",
    "\n",
    "#########################\n",
    "# enable, step\n",
    "#########################\n",
    "Restart     false\n",
    "\n",
    "\n",
    "####################################\n",
    "# kind (RESTART, RANDOM, INTSEED)\n",
    "####################################\n",
    "PRNG        RANDOM\n",
    "\n",
    "####################################\n",
    "# FORCE FIELD\n",
    "####################################\n",
    "ParaTypeCHARMM   true\n",
    "ParaTypeEXOTIC   false\n",
    "Parameters      {parameters}\n",
    "\n",
    "####################################\n",
    "# INPUT PDB FILES\n",
    "####################################\n",
    "Coordinates 0    {coords}\n",
    "\n",
    "####################################\n",
    "# INPUT PSF FILES\n",
    "####################################\n",
    "Structure 0      {structure}\n",
    "\n",
    "\n",
    "\n",
    "############################################################################\n",
    "#  =======--------------------- SYSTEM --------------------------===========\n",
    "############################################################################\n",
    "\n",
    "##################################\n",
    "# GEMC TYPE (DEFULT IS NVT_GEMC)\n",
    "##################################\n",
    "\n",
    "\n",
    "#############################\n",
    "# SIMULATION CONDITION\n",
    "#############################\n",
    "Temperature     300.00\n",
    "Potential       VDW\n",
    "LRC     true\n",
    "Rcut        10\n",
    "Exclude     1-4\n",
    "\n",
    "#############################\n",
    "# ELECTROSTATIC\n",
    "#############################\n",
    "ElectroStatic   false\n",
    "Ewald           false\n",
    "PressureCalc  true  1000\n",
    "\n",
    "################################\n",
    "# STEPS\n",
    "################################\n",
    "RunSteps           1000000\n",
    "EqSteps        500000\n",
    "AdjSteps       1000\n",
    "\n",
    "################################\n",
    "# MOVE FREQUENCY\n",
    "################################\n",
    "DisFreq               0.60\n",
    "RotFreq           0.10\n",
    "RegrowthFreq          0.30\n",
    "\n",
    "\n",
    "################################\n",
    "# BOX DIMENSION #, X, Y, Z\n",
    "################################\n",
    "CellBasisVector1 0  {box_x}  0.00    0.00\n",
    "CellBasisVector2 0  0.00    {box_y}  0.00\n",
    "CellBasisVector3 0  0.00    0.00    {box_z}\n",
    "\n",
    "\n",
    "##############################\n",
    "# CBMC TRIALS\n",
    "##############################\n",
    "CBMC_First   10\n",
    "CBMC_Nth     8\n",
    "CBMC_Ang     100\n",
    "CBMC_Dih     20\n",
    "\n",
    "####################################\n",
    "#          Mol. Name     Chem. Pot.\n",
    "####################################\n",
    "############################################################################\n",
    "#  =======-------------------- OUTPUT --------------------------===========\n",
    "############################################################################\n",
    "\n",
    "##########################\n",
    "# statistics filename add\n",
    "##########################\n",
    "OutputName  {output}\n",
    "\n",
    "#####################################\n",
    "# enable, frequency\n",
    "#####################################\n",
    "CoordinatesFreq    true   1000000\n",
    "RestartFreq        true   1000000\n",
    "ConsoleFreq        true   100000\n",
    "BlockAverageFreq   true   100000\n",
    "HistogramFreq      false  100000\n",
    "\n",
    "\n",
    "################################\n",
    "# OutHistSettings\n",
    "################################\n",
    "\n",
    "\n",
    "##################################\n",
    "# enable: blk avg., fluct.\n",
    "##################################\n",
    "OutEnergy         true    true\n",
    "OutPressure       true    true\n",
    "OutMolNum         true    true\n",
    "OutDensity        true    true\n",
    "\"\"\".format(structure=structure, coords=coords, parameters=parameters, output=output,\n",
    "          box_x=parm_structure.box[0], box_y=parm_structure.box[1], box_z=parm_structure.box[2]))"
   ]
  },
  {
   "cell_type": "code",
   "execution_count": 73,
   "metadata": {},
   "outputs": [],
   "source": [
    "param.save('coords.pdb', overwrite=True)\n",
    "param.save('structure.psf', overwrite=True)\n",
    "paramset = parmed.charmm.CharmmParameterSet.from_structure(param)\n",
    "paramset.write(par='parameters.par')\n",
    "write_gomc_input('in.conf', param, coords='coords.pdb', structure='structure.psf', parameters='parameters.par')"
   ]
  },
  {
   "cell_type": "code",
   "execution_count": 74,
   "metadata": {},
   "outputs": [
    {
     "data": {
      "text/plain": [
       "'AR'"
      ]
     },
     "execution_count": 74,
     "metadata": {},
     "output_type": "execute_result"
    }
   ],
   "source": [
    "param.atoms[0].type"
   ]
  },
  {
   "cell_type": "code",
   "execution_count": null,
   "metadata": {},
   "outputs": [],
   "source": []
  }
 ],
 "metadata": {
  "kernelspec": {
   "display_name": "Python 3",
   "language": "python",
   "name": "python3"
  },
  "language_info": {
   "codemirror_mode": {
    "name": "ipython",
    "version": 3
   },
   "file_extension": ".py",
   "mimetype": "text/x-python",
   "name": "python",
   "nbconvert_exporter": "python",
   "pygments_lexer": "ipython3",
   "version": "3.6.7"
  }
 },
 "nbformat": 4,
 "nbformat_minor": 2
}
