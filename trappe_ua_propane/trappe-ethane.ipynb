{
 "cells": [
  {
   "cell_type": "code",
   "execution_count": 1,
   "metadata": {},
   "outputs": [],
   "source": [
    "import mbuild as mb\n",
    "import foyer\n",
    "import parmed\n",
    "import subprocess"
   ]
  },
  {
   "cell_type": "markdown",
   "metadata": {},
   "source": [
    "# Step 1: Accessing the TraPPE website\n",
    "\n",
    "Head to the [TraPPE website](http://chem-siepmann.oit.umn.edu/siepmann/trappe/index.html) and search for Ethane (C3H8). \n",
    "This page contains extensive information on how to implement the TraPPE force field. \n",
    "\n",
    "More importantly, the bottom of the page contains some structure PDB and foyer forcefield XML files. \n",
    "We will download the \"Monomer 1\" PDB and Foyer XML files."
   ]
  },
  {
   "cell_type": "markdown",
   "metadata": {},
   "source": [
    "# Step 2: Building the mBuild compound\n",
    "To implement non-atomistic compounds and the bond-less PDB files from the TraPPE website, some modifications will be necessary after creating our `mb.Compound`\n",
    "\n",
    "For extensibility purposes, these functions could be easily wrapped into an mBuild class."
   ]
  },
  {
   "cell_type": "code",
   "execution_count": 2,
   "metadata": {},
   "outputs": [],
   "source": [
    "cmpd = mb.load('TraPPE_UA_3_propane_monomer1.pdb')\n",
    "cmpd.name = 'Pro'"
   ]
  },
  {
   "cell_type": "markdown",
   "metadata": {},
   "source": [
    "The PDB has some awkward naming conventions that manifest in the mBuild particles.\n",
    "To remedy this, we will convert the particles' names to follow the non-atomistic convention, \n",
    "where particle names are prefaced with an underscore.\n",
    "\n",
    "Furthermore, the PDB file does not contain bond information, so we will manually specify bonds in mBuild."
   ]
  },
  {
   "cell_type": "code",
   "execution_count": 3,
   "metadata": {},
   "outputs": [
    {
     "data": {
      "text/plain": [
       "[<1CH3 pos=( 2.2350, 2.7578, 1.2698), 0 bonds, id: 4512721440>,\n",
       " <CH2 pos=( 2.2991, 2.6213, 1.2385), 0 bonds, id: 4512805272>,\n",
       " <2CH3 pos=( 2.1983, 2.5050, 1.2329), 0 bonds, id: 4786419640>]"
      ]
     },
     "execution_count": 3,
     "metadata": {},
     "output_type": "execute_result"
    }
   ],
   "source": [
    "particles = [a for a in cmpd.particles()]\n",
    "particles"
   ]
  },
  {
   "cell_type": "code",
   "execution_count": 4,
   "metadata": {},
   "outputs": [
    {
     "data": {
      "text/plain": [
       "[<_CH3 pos=( 2.2350, 2.7578, 1.2698), 0 bonds, id: 4512721440>,\n",
       " <_CH2 pos=( 2.2991, 2.6213, 1.2385), 0 bonds, id: 4512805272>,\n",
       " <_CH3 pos=( 2.1983, 2.5050, 1.2329), 0 bonds, id: 4786419640>]"
      ]
     },
     "execution_count": 4,
     "metadata": {},
     "output_type": "execute_result"
    }
   ],
   "source": [
    "particles[0].name = \"_\" + particles[0].name[1:]\n",
    "particles[1].name = \"_\" + particles[1].name\n",
    "particles[2].name = \"_\" + particles[2].name[1:]\n",
    "cmpd.add_bond((particles[0], particles[1]))\n",
    "cmpd.add_bond((particles[1], particles[2]))\n",
    "particles"
   ]
  },
  {
   "cell_type": "markdown",
   "metadata": {},
   "source": [
    "After \"cleaning up\" the mBuild compound, we can fill a box to generate a molecular system"
   ]
  },
  {
   "cell_type": "code",
   "execution_count": 5,
   "metadata": {},
   "outputs": [],
   "source": [
    "box = mb.fill_box(cmpd, n_compounds=5, box=[5,5,5])"
   ]
  },
  {
   "cell_type": "markdown",
   "metadata": {},
   "source": [
    "# Step 3: Applying the foyer force field\n",
    "The foyer XML provided on the TraPPE website requires some modification to fulfill the foyer XML schema.\n",
    "\n",
    "Namely, the `ForceField` XML element should not have the attribute `model`. While this is useful information to document, this is not consistent with the current foyer XML schema, so the attribute needs to be removed.\n",
    "\n",
    "Furthermore, the `HarmonicBondForce`, `HarmonicAngleForce`, and `RBTorsionForce` elements may include DOI information. Again, while this is useful information to document, this is not consistent with the current foyer XML schema, so the DOIs in these XML elements need to be removed. The DOIs in the `AtomTypes` section, however, can be kept.\n",
    "\n",
    "The XML provided in this repo has already modified the TraPPE XML.\n",
    "\n",
    "Note: The \"canonical\" TraPPE implementation utilizes *constrained bonds or fixed bond lengths*, but the listed bond constants within the XML are based on GAFF parametrization for flexible bonds. Please observe this feature within TraPPE to ensure simulation consistency. Additionally, observe that the TraPPE force field excludes 1-4 LJ and Coulombic interactions"
   ]
  },
  {
   "cell_type": "code",
   "execution_count": 6,
   "metadata": {},
   "outputs": [
    {
     "name": "stderr",
     "output_type": "stream",
     "text": [
      "/Users/ayang41/Programs/foyer/foyer/forcefield.py:396: UserWarning: Non-atomistic element type detected. Creating custom element for _CH3\n",
      "  'Creating custom element for {}'.format(element))\n",
      "/Users/ayang41/Programs/foyer/foyer/forcefield.py:396: UserWarning: Non-atomistic element type detected. Creating custom element for _CH2\n",
      "  'Creating custom element for {}'.format(element))\n"
     ]
    }
   ],
   "source": [
    "ff = foyer.Forcefield(forcefield_files='TraPPE_UA_3_fully_flexible_propane.xml')"
   ]
  },
  {
   "cell_type": "code",
   "execution_count": 7,
   "metadata": {},
   "outputs": [
    {
     "name": "stderr",
     "output_type": "stream",
     "text": [
      "/Users/ayang41/Programs/mbuild/mbuild/compound.py:2410: UserWarning: Guessing that \"<_CH3 pos=( 0.6139, 1.2359, 2.7388), 0 bonds, id: 4786848320>\" is element: \"EP\"\n",
      "  atom, element))\n"
     ]
    }
   ],
   "source": [
    "structure = box.to_parmed(residues='Pro')\n",
    "parametrized = ff.apply(structure)"
   ]
  },
  {
   "cell_type": "markdown",
   "metadata": {},
   "source": [
    "After parametrizing our compound, we can save the structure to gromacs-suitable files."
   ]
  },
  {
   "cell_type": "code",
   "execution_count": 8,
   "metadata": {},
   "outputs": [],
   "source": [
    "parametrized.save('out.gro', overwrite=True)\n",
    "parametrized.save('out.top', overwrite=True)"
   ]
  },
  {
   "cell_type": "markdown",
   "metadata": {},
   "source": [
    "# Step 4: Running the simulation\n",
    "\n",
    "As with most simulation engines, an input or control file is necessary. \n",
    "For gromacs, this is the MDP file. \n",
    "\n",
    "* As mentioned earlier in Step 3, TraPPE typically utilizes fixed bond lengths, so we make sure to specify `constraints = all-bonds`\n",
    "* As specified on the TraPPE website, cutoffs are 1.4 nm, tail corrections for LJ interactions, and Ewald summations for Coulombic interactions\n"
   ]
  },
  {
   "cell_type": "code",
   "execution_count": 9,
   "metadata": {},
   "outputs": [],
   "source": [
    "def write_gmx_mdp(filename):\n",
    "    with open(filename, 'w') as f:\n",
    "        f.write(\"\"\"\n",
    "title                     = NVT Equilibration\n",
    "; Run parameters\n",
    "integrator                = md        ; leap-frog integrator\n",
    "nsteps                    = 5000     ; 2 * 5000 = 10ps\n",
    "dt                        = 0.002     ; 2 fs\n",
    "\n",
    "; Output control\n",
    "nstxout                   = 500       ; Every 1.0 ps\n",
    "nstvout                   = 500\n",
    "nstenergy                 = 500\n",
    "nstlog                    = 500\n",
    "\n",
    ";Bond parameters\n",
    "continuation              = no\n",
    "constraint_algorithm    = lincs\n",
    "constraints             =   all-bonds\n",
    "lincs_iter              = 1\n",
    "lincs_order             = 4\n",
    "\n",
    "; Neighbor searching\n",
    "cutoff-scheme           = Verlet\n",
    "nstype                  = grid\n",
    "nstlist                 = 10\n",
    "rcoulomb                = 1.4\n",
    "rvdw                    = 1.4\n",
    "\n",
    "; Electrostatics\n",
    "coulombtype             = PME\n",
    "pme_order               = 4\n",
    "fourierspacing          = 0.16\n",
    "\n",
    "; Temperature coupling\n",
    "tcoupl                  = nose-hoover\n",
    "tc-grps                 = system\n",
    "tau_t                   = 0.4  \n",
    "ref_t                   = 300  \n",
    "\n",
    "; Pressure coupling\n",
    "pcoupl                 = no\n",
    "\n",
    ";Periodic boundary conditions\n",
    "pbc                     = xyz\n",
    "\n",
    ";Dispersion correction\n",
    "DispCorr                = EnerPres\n",
    "\n",
    ";Velocity generation\n",
    "gen_vel                 = yes\n",
    "gen_temp                = 300\n",
    "gen_seed                = -1\"\"\")"
   ]
  },
  {
   "cell_type": "code",
   "execution_count": 10,
   "metadata": {},
   "outputs": [],
   "source": [
    "write_gmx_mdp('nvt.mdp')\n",
    "grompp_cmd = 'gmx grompp -f nvt.mdp -c out.gro -p out.top -maxwarn 1 -o nvt'\n",
    "p = subprocess.Popen(grompp_cmd, shell=True, universal_newlines=True,\n",
    "                    stdout=subprocess.PIPE, stderr=subprocess.PIPE)\n",
    "out, err = p.communicate()\n",
    "with open('grompp.out', 'w') as f:\n",
    "    f.write(out)\n",
    "with open('grompp.err', 'w') as f:\n",
    "    f.write(err)\n",
    "    \n",
    "mdrun_cmd = 'gmx mdrun -deffnm nvt'\n",
    "p = subprocess.Popen(mdrun_cmd, shell=True, universal_newlines=True,\n",
    "                    stdout=subprocess.PIPE, stderr=subprocess.PIPE)\n",
    "out, err = p.communicate()\n",
    "with open('mdrun.out', 'w') as f:\n",
    "    f.write(out)\n",
    "with open('mdrun.err', 'w') as f:\n",
    "    f.write(err)"
   ]
  },
  {
   "cell_type": "markdown",
   "metadata": {},
   "source": [
    "# Step 5: Analysis"
   ]
  },
  {
   "cell_type": "markdown",
   "metadata": {},
   "source": [
    "# Concluding Remarks\n",
    "Some low-level routines for constructing a TraPPE molecular simulation have been provided. There is clear room for extensibility to build multiple, different mBuild compounds; to simulate different thermodynamic statepoints; and to do so in a very modular, reproducible fashion. Future work can include disseminating the entire TraPPE force field within an XML, validating dihedral fits within the TraPPE implementation, and adjusting the PDB/XML files on the TraPPE website to ensure MoSDeF consistency."
   ]
  },
  {
   "cell_type": "code",
   "execution_count": null,
   "metadata": {},
   "outputs": [],
   "source": []
  }
 ],
 "metadata": {
  "kernelspec": {
   "display_name": "Python 3",
   "language": "python",
   "name": "python3"
  },
  "language_info": {
   "codemirror_mode": {
    "name": "ipython",
    "version": 3
   },
   "file_extension": ".py",
   "mimetype": "text/x-python",
   "name": "python",
   "nbconvert_exporter": "python",
   "pygments_lexer": "ipython3",
   "version": "3.6.7"
  }
 },
 "nbformat": 4,
 "nbformat_minor": 2
}
