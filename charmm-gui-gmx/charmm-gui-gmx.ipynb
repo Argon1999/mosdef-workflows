{
 "cells": [
  {
   "cell_type": "markdown",
   "metadata": {},
   "source": [
    "# Using CHARMM-GUI + MoSDeF + GROMACS + MDTraj\n",
    "This workflow covers obtaining pre-parametrized structures via CHARMM-GUI,\n",
    "initializing a system using mBuild, writing the appropriate input files for GROMACS,\n",
    "running a simulation with GROMACS, and analyzing a trajectory with MDTraj"
   ]
  },
  {
   "cell_type": "markdown",
   "metadata": {},
   "source": [
    "Outside of the scope of this work is using CHARMM-GUI, \n",
    "but we will assume we have designed and parametrized an ethane molecule via CHARMM-GUI\n",
    "based on the CHARMM force field. The resultant output has relevant parameter and input files for\n",
    "OpenMM, NAMD, CHARMM, and GROMACS. We are also given some structural coordinates for an ethane molecule. "
   ]
  },
  {
   "cell_type": "markdown",
   "metadata": {},
   "source": [
    "In this workflow, we are working with the GROMACS simulation package, so we are interested in the ITP files,\n",
    "`files/ETHA.itp` and `files/charmm36.itp`, as well as the MOL2 file, `files/ethane.mol2`. \n",
    "\n",
    "The ITP files contain all the relevant force field information for a simulation, \n",
    "while the MOL2 file serves as a prototype for constructing an `mb.Compound`"
   ]
  },
  {
   "cell_type": "code",
   "execution_count": 38,
   "metadata": {},
   "outputs": [],
   "source": [
    "import mbuild as mb"
   ]
  },
  {
   "cell_type": "markdown",
   "metadata": {},
   "source": [
    "## Constructing our mb.Compound subclass\n",
    "In this situation, we do not need to construct particles and overlap ports. \n",
    "Instead, we can load coordinates/bonding information from the MOL2 file.\n",
    "We can also set the name of the compound to be consistent with `files/ETHA.itp`"
   ]
  },
  {
   "cell_type": "code",
   "execution_count": 65,
   "metadata": {},
   "outputs": [],
   "source": [
    "class charmm_ethane(mb.Compound):\n",
    "    def __init__(self):\n",
    "        super(charmm_ethane, self).__init__()\n",
    "        mb.load('files/ethane.mol2', compound=self)\n",
    "        self.name='ETHA'"
   ]
  },
  {
   "cell_type": "markdown",
   "metadata": {},
   "source": [
    "## Re-using this class\n",
    "\n",
    "We will use mBuild functionality to construct a larger mb.Compound by filling a box with these ethane molecules."
   ]
  },
  {
   "cell_type": "code",
   "execution_count": 40,
   "metadata": {},
   "outputs": [
    {
     "name": "stderr",
     "output_type": "stream",
     "text": [
      "/Users/ayang41/Programs/mdtraj/mdtraj/formats/mol2.py:203: FutureWarning: read_table is deprecated, use read_csv instead.\n",
      "  index_col=0, header=None, sep=\"\\s+\", engine='python')\n"
     ]
    }
   ],
   "source": [
    "prototype = charmm_ethane()\n",
    "n_ethane = 100\n",
    "ethane_box = mb.fill_box(compound=prototype, n_compounds=n_ethane, density=1)"
   ]
  },
  {
   "cell_type": "markdown",
   "metadata": {},
   "source": [
    "## Writing coordinates to disk\n",
    "We can `save` this compound to disk in a variety of file formats. Since we are performing a GROMACS simulation, we will save the coordinates to a `gro` file, additionally specifying residue names."
   ]
  },
  {
   "cell_type": "code",
   "execution_count": 42,
   "metadata": {},
   "outputs": [],
   "source": [
    "ethane_box.save('box.gro', residues=['ETHA'], overwrite=True)"
   ]
  },
  {
   "cell_type": "markdown",
   "metadata": {},
   "source": [
    "## Writing force field information to disk\n",
    "By using the #include statement functionality in gromacs, we can write a fairly simple `top` file.\n",
    "This `top` file will pull force field parameters from `files/charmm36.itp` and `files/ETHA.itp`.\n",
    "\n",
    "In this example, the use of `ITP` files helps streamline the force field parametrization process\n",
    "because these compounds were already parametrized"
   ]
  },
  {
   "cell_type": "code",
   "execution_count": 43,
   "metadata": {},
   "outputs": [],
   "source": [
    "with open('box.top', 'w') as f:\n",
    "    f.write(\"#include \\\"files/charmm36.itp\\\" \\n\")\n",
    "    f.write(\"#include \\\"files/ETHA.itp\\\" \\n\")\n",
    "    f.write(\"[ System ] \\n\")\n",
    "    f.write('mBuild box of ethane\\n')\n",
    "    f.write(\"[ Molecules ] \\n\")\n",
    "    f.write(\"{} {}\".format(prototype.name, n_ethane))"
   ]
  },
  {
   "cell_type": "markdown",
   "metadata": {},
   "source": [
    "## Perform energy minimization and NPT simulation in GROMACS\n",
    "This is an uninteresting system with very few timesteps, but we will continue with the simulation steps"
   ]
  },
  {
   "cell_type": "code",
   "execution_count": 44,
   "metadata": {},
   "outputs": [
    {
     "name": "stdout",
     "output_type": "stream",
     "text": [
      "                      :-) GROMACS - gmx grompp, 2018.1 (-:\n",
      "\n",
      "                            GROMACS is written by:\n",
      "     Emile Apol      Rossen Apostolov      Paul Bauer     Herman J.C. Berendsen\n",
      "    Par Bjelkmar    Aldert van Buuren   Rudi van Drunen     Anton Feenstra  \n",
      "  Gerrit Groenhof    Aleksei Iupinov   Christoph Junghans   Anca Hamuraru   \n",
      " Vincent Hindriksen Dimitrios Karkoulis    Peter Kasson        Jiri Kraus    \n",
      "  Carsten Kutzner      Per Larsson      Justin A. Lemkul    Viveca Lindahl  \n",
      "  Magnus Lundborg   Pieter Meulenhoff    Erik Marklund      Teemu Murtola   \n",
      "    Szilard Pall       Sander Pronk      Roland Schulz     Alexey Shvetsov  \n",
      "   Michael Shirts     Alfons Sijbers     Peter Tieleman    Teemu Virolainen \n",
      " Christian Wennberg    Maarten Wolf   \n",
      "                           and the project leaders:\n",
      "        Mark Abraham, Berk Hess, Erik Lindahl, and David van der Spoel\n",
      "\n",
      "Copyright (c) 1991-2000, University of Groningen, The Netherlands.\n",
      "Copyright (c) 2001-2017, The GROMACS development team at\n",
      "Uppsala University, Stockholm University and\n",
      "the Royal Institute of Technology, Sweden.\n",
      "check out http://www.gromacs.org for more information.\n",
      "\n",
      "GROMACS is free software; you can redistribute it and/or modify it\n",
      "under the terms of the GNU Lesser General Public License\n",
      "as published by the Free Software Foundation; either version 2.1\n",
      "of the License, or (at your option) any later version.\n",
      "\n",
      "GROMACS:      gmx grompp, version 2018.1\n",
      "Executable:   /Users/ayang41/Programs/gromacs-2018.1/installation/bin/gmx\n",
      "Data prefix:  /Users/ayang41/Programs/gromacs-2018.1/installation\n",
      "Working dir:  /Users/ayang41/Programs/mosdef-workflows/charmm-gui-gmx\n",
      "Command line:\n",
      "  gmx grompp -f files/em.mdp -c box.gro -p box.top -o em -maxwarn 1\n",
      "\n",
      "\n",
      "NOTE 1 [file files/em.mdp]:\n",
      "  With Verlet lists the optimal nstlist is >= 10, with GPUs >= 20. Note\n",
      "  that with the Verlet scheme, nstlist has no effect on the accuracy of\n",
      "  your simulation.\n",
      "\n",
      "Setting the LD random seed to -31714273\n",
      "Generated 3 of the 3 non-bonded parameter combinations\n",
      "Generating 1-4 interactions: fudge = 1\n",
      "Generated 1 of the 3 1-4 parameter combinations\n",
      "Excluding 3 bonded neighbours molecule type 'ETHA'\n",
      "Warning: atom name 1 in box.top and box.gro does not match (H13 - C)\n",
      "Warning: atom name 2 in box.top and box.gro does not match (C1 - C)\n",
      "Warning: atom name 3 in box.top and box.gro does not match (C2 - H)\n",
      "Warning: atom name 4 in box.top and box.gro does not match (H21 - H)\n",
      "Warning: atom name 5 in box.top and box.gro does not match (H22 - H)\n",
      "Warning: atom name 6 in box.top and box.gro does not match (H23 - H)\n",
      "Warning: atom name 7 in box.top and box.gro does not match (H11 - H)\n",
      "Warning: atom name 8 in box.top and box.gro does not match (H12 - H)\n",
      "Warning: atom name 9 in box.top and box.gro does not match (H13 - C)\n",
      "Warning: atom name 10 in box.top and box.gro does not match (C1 - C)\n",
      "Warning: atom name 11 in box.top and box.gro does not match (C2 - H)\n",
      "Warning: atom name 12 in box.top and box.gro does not match (H21 - H)\n",
      "Warning: atom name 13 in box.top and box.gro does not match (H22 - H)\n",
      "Warning: atom name 14 in box.top and box.gro does not match (H23 - H)\n",
      "Warning: atom name 15 in box.top and box.gro does not match (H11 - H)\n",
      "Warning: atom name 16 in box.top and box.gro does not match (H12 - H)\n",
      "Warning: atom name 17 in box.top and box.gro does not match (H13 - C)\n",
      "Warning: atom name 18 in box.top and box.gro does not match (C1 - C)\n",
      "Warning: atom name 19 in box.top and box.gro does not match (C2 - H)\n",
      "Warning: atom name 20 in box.top and box.gro does not match (H21 - H)\n",
      "(more than 20 non-matching atom names)\n",
      "\n",
      "WARNING 1 [file box.top, line 6]:\n",
      "  800 non-matching atom names\n",
      "  atom names from box.top will be used\n",
      "  atom names from box.gro will be ignored\n",
      "\n",
      "\n",
      "Removing all charge groups because cutoff-scheme=Verlet\n",
      "Analysing residue names:\n",
      "There are:   100      Other residues\n",
      "Analysing residues not classified as Protein/DNA/RNA/Water and splitting into groups...\n",
      "Number of degrees of freedom in T-Coupling group rest is 2397.00\n",
      "Calculating fourier grid dimensions for X Y Z\n",
      "Using a fourier grid of 144x144x144, spacing 0.119 0.119 0.119\n",
      "Estimate for the relative computational load of the PME mesh part: 1.00\n",
      "\n",
      "NOTE 2 [file files/em.mdp]:\n",
      "  The optimal PME mesh load for parallel simulations is below 0.5\n",
      "  and for highly parallel simulations between 0.25 and 0.33,\n",
      "  for higher performance, increase the cut-off and the PME grid spacing.\n",
      "\n",
      "\n",
      "This run will generate roughly 0 Mb of data\n",
      "\n",
      "There were 2 notes\n",
      "\n",
      "There was 1 warning\n",
      "\n",
      "Back Off! I just backed up em.tpr to ./#em.tpr.1#\n",
      "\n",
      "GROMACS reminds you: \"Base eight is just like base ten really, if you’re missing two fingers.\" (Tom Lehrer)\n",
      "\n"
     ]
    }
   ],
   "source": [
    "!gmx grompp -f files/em.mdp -c box.gro -p box.top -o em -maxwarn 1"
   ]
  },
  {
   "cell_type": "code",
   "execution_count": 45,
   "metadata": {},
   "outputs": [
    {
     "name": "stdout",
     "output_type": "stream",
     "text": [
      "                      :-) GROMACS - gmx mdrun, 2018.1 (-:\n",
      "\n",
      "                            GROMACS is written by:\n",
      "     Emile Apol      Rossen Apostolov      Paul Bauer     Herman J.C. Berendsen\n",
      "    Par Bjelkmar    Aldert van Buuren   Rudi van Drunen     Anton Feenstra  \n",
      "  Gerrit Groenhof    Aleksei Iupinov   Christoph Junghans   Anca Hamuraru   \n",
      " Vincent Hindriksen Dimitrios Karkoulis    Peter Kasson        Jiri Kraus    \n",
      "  Carsten Kutzner      Per Larsson      Justin A. Lemkul    Viveca Lindahl  \n",
      "  Magnus Lundborg   Pieter Meulenhoff    Erik Marklund      Teemu Murtola   \n",
      "    Szilard Pall       Sander Pronk      Roland Schulz     Alexey Shvetsov  \n",
      "   Michael Shirts     Alfons Sijbers     Peter Tieleman    Teemu Virolainen \n",
      " Christian Wennberg    Maarten Wolf   \n",
      "                           and the project leaders:\n",
      "        Mark Abraham, Berk Hess, Erik Lindahl, and David van der Spoel\n",
      "\n",
      "Copyright (c) 1991-2000, University of Groningen, The Netherlands.\n",
      "Copyright (c) 2001-2017, The GROMACS development team at\n",
      "Uppsala University, Stockholm University and\n",
      "the Royal Institute of Technology, Sweden.\n",
      "check out http://www.gromacs.org for more information.\n",
      "\n",
      "GROMACS is free software; you can redistribute it and/or modify it\n",
      "under the terms of the GNU Lesser General Public License\n",
      "as published by the Free Software Foundation; either version 2.1\n",
      "of the License, or (at your option) any later version.\n",
      "\n",
      "GROMACS:      gmx mdrun, version 2018.1\n",
      "Executable:   /Users/ayang41/Programs/gromacs-2018.1/installation/bin/gmx\n",
      "Data prefix:  /Users/ayang41/Programs/gromacs-2018.1/installation\n",
      "Working dir:  /Users/ayang41/Programs/mosdef-workflows/charmm-gui-gmx\n",
      "Command line:\n",
      "  gmx mdrun -deffnm em\n",
      "\n",
      "\n",
      "Back Off! I just backed up em.log to ./#em.log.1#\n",
      "Reading file em.tpr, VERSION 2018.1 (single precision)\n",
      "\n",
      "NOTE: disabling dynamic load balancing as it is only supported with dynamics, not with integrator 'steep'.\n",
      "\n",
      "Using 4 MPI threads\n",
      "\n",
      "Back Off! I just backed up em.trr to ./#em.trr.1#\n",
      "\n",
      "Back Off! I just backed up em.edr to ./#em.edr.1#\n",
      "\n",
      "Steepest Descents:\n",
      "   Tolerance (Fmax)   =  1.00000e+03\n",
      "   Number of steps    =        50000\n",
      "\n",
      "writing lowest energy coordinates.\n",
      "\n",
      "Back Off! I just backed up em.gro to ./#em.gro.1#\n",
      "\n",
      "Steepest Descents converged to Fmax < 1000 in 27 steps\n",
      "Potential Energy  =  4.0232490e+03\n",
      "Maximum force     =  5.3452930e+02 on atom 18\n",
      "Norm of force     =  2.4953529e+02\n",
      "\n",
      "GROMACS reminds you: \"Come on boys, Let's push it hard\" (P.J. Harvey)\n",
      "\n"
     ]
    }
   ],
   "source": [
    "!gmx mdrun -deffnm em"
   ]
  },
  {
   "cell_type": "code",
   "execution_count": 54,
   "metadata": {},
   "outputs": [
    {
     "name": "stdout",
     "output_type": "stream",
     "text": [
      "                      :-) GROMACS - gmx grompp, 2018.1 (-:\r\n",
      "\r\n",
      "                            GROMACS is written by:\r\n",
      "     Emile Apol      Rossen Apostolov      Paul Bauer     Herman J.C. Berendsen\r\n",
      "    Par Bjelkmar    Aldert van Buuren   Rudi van Drunen     Anton Feenstra  \r\n",
      "  Gerrit Groenhof    Aleksei Iupinov   Christoph Junghans   Anca Hamuraru   \r\n",
      " Vincent Hindriksen Dimitrios Karkoulis    Peter Kasson        Jiri Kraus    \r\n",
      "  Carsten Kutzner      Per Larsson      Justin A. Lemkul    Viveca Lindahl  \r\n",
      "  Magnus Lundborg   Pieter Meulenhoff    Erik Marklund      Teemu Murtola   \r\n",
      "    Szilard Pall       Sander Pronk      Roland Schulz     Alexey Shvetsov  \r\n",
      "   Michael Shirts     Alfons Sijbers     Peter Tieleman    Teemu Virolainen \r\n",
      " Christian Wennberg    Maarten Wolf   \r\n",
      "                           and the project leaders:\r\n",
      "        Mark Abraham, Berk Hess, Erik Lindahl, and David van der Spoel\r\n",
      "\r\n",
      "Copyright (c) 1991-2000, University of Groningen, The Netherlands.\r\n",
      "Copyright (c) 2001-2017, The GROMACS development team at\r\n",
      "Uppsala University, Stockholm University and\r\n",
      "the Royal Institute of Technology, Sweden.\r\n",
      "check out http://www.gromacs.org for more information.\r\n",
      "\r\n",
      "GROMACS is free software; you can redistribute it and/or modify it\r\n",
      "under the terms of the GNU Lesser General Public License\r\n",
      "as published by the Free Software Foundation; either version 2.1\r\n",
      "of the License, or (at your option) any later version.\r\n",
      "\r\n",
      "GROMACS:      gmx grompp, version 2018.1\r\n",
      "Executable:   /Users/ayang41/Programs/gromacs-2018.1/installation/bin/gmx\r\n",
      "Data prefix:  /Users/ayang41/Programs/gromacs-2018.1/installation\r\n",
      "Working dir:  /Users/ayang41/Programs/mosdef-workflows/charmm-gui-gmx\r\n",
      "Command line:\r\n",
      "  gmx grompp -f files/npt.mdp -c em.gro -p box.top -o npt\r\n",
      "\r\n",
      "Replacing old mdp entry 'nstxtcout' by 'nstxout-compressed'\r\n",
      "\r\n",
      "NOTE 1 [file files/npt.mdp]:\r\n",
      "  You have set rlist larger than the interaction cut-off, but you also have\r\n",
      "  verlet-buffer-tolerance > 0. Will set rlist using verlet-buffer-tolerance.\r\n",
      "\r\n",
      "\r\n",
      "NOTE 2 [file files/npt.mdp]:\r\n",
      "  Setting nstcalcenergy (100) equal to nstenergy (10)\r\n",
      "\r\n",
      "\r\n",
      "NOTE 3 [file files/npt.mdp]:\r\n",
      "  leapfrog does not yet support Nose-Hoover chains, nhchainlength reset to 1\r\n",
      "\r\n",
      "Setting the LD random seed to -1139208915\r\n",
      "Generated 3 of the 3 non-bonded parameter combinations\r\n",
      "Generating 1-4 interactions: fudge = 1\r\n",
      "Generated 1 of the 3 1-4 parameter combinations\r\n",
      "Excluding 3 bonded neighbours molecule type 'ETHA'\r\n",
      "turning H bonds into constraints...\r\n",
      "Removing all charge groups because cutoff-scheme=Verlet\r\n",
      "Analysing residue names:\r\n",
      "There are:   100      Other residues\r\n",
      "Analysing residues not classified as Protein/DNA/RNA/Water and splitting into groups...\r\n",
      "Number of degrees of freedom in T-Coupling group System is 1797.00\r\n",
      "Determining Verlet buffer for a tolerance of 0.005 kJ/mol/ps at 300 K\r\n",
      "Calculated rlist for 1x1 atom pair-list as 0.900 nm, buffer size 0.000 nm\r\n",
      "Set rlist, assuming 4x4 atom pair-list, to 0.900 nm, buffer size 0.000 nm\r\n",
      "Note that mdrun will redetermine rlist based on the actual pair-list setup\r\n",
      "Calculating fourier grid dimensions for X Y Z\r\n",
      "Using a fourier grid of 144x144x144, spacing 0.119 0.119 0.119\r\n",
      "Estimate for the relative computational load of the PME mesh part: 1.00\r\n",
      "\r\n",
      "NOTE 4 [file files/npt.mdp]:\r\n",
      "  The optimal PME mesh load for parallel simulations is below 0.5\r\n",
      "  and for highly parallel simulations between 0.25 and 0.33,\r\n",
      "  for higher performance, increase the cut-off and the PME grid spacing.\r\n",
      "\r\n",
      "\r\n",
      "This run will generate roughly 0 Mb of data\r\n",
      "\r\n",
      "There were 4 notes\r\n",
      "\r\n",
      "Back Off! I just backed up npt.tpr to ./#npt.tpr.5#\r\n",
      "\r\n",
      "GROMACS reminds you: \"There's no kill like overkill, right?\" (Erik Lindahl)\r\n",
      "\r\n"
     ]
    }
   ],
   "source": [
    "!gmx grompp -f files/npt.mdp -c em.gro -p box.top -o npt"
   ]
  },
  {
   "cell_type": "code",
   "execution_count": 55,
   "metadata": {},
   "outputs": [
    {
     "name": "stdout",
     "output_type": "stream",
     "text": [
      "                      :-) GROMACS - gmx mdrun, 2018.1 (-:\n",
      "\n",
      "                            GROMACS is written by:\n",
      "     Emile Apol      Rossen Apostolov      Paul Bauer     Herman J.C. Berendsen\n",
      "    Par Bjelkmar    Aldert van Buuren   Rudi van Drunen     Anton Feenstra  \n",
      "  Gerrit Groenhof    Aleksei Iupinov   Christoph Junghans   Anca Hamuraru   \n",
      " Vincent Hindriksen Dimitrios Karkoulis    Peter Kasson        Jiri Kraus    \n",
      "  Carsten Kutzner      Per Larsson      Justin A. Lemkul    Viveca Lindahl  \n",
      "  Magnus Lundborg   Pieter Meulenhoff    Erik Marklund      Teemu Murtola   \n",
      "    Szilard Pall       Sander Pronk      Roland Schulz     Alexey Shvetsov  \n",
      "   Michael Shirts     Alfons Sijbers     Peter Tieleman    Teemu Virolainen \n",
      " Christian Wennberg    Maarten Wolf   \n",
      "                           and the project leaders:\n",
      "        Mark Abraham, Berk Hess, Erik Lindahl, and David van der Spoel\n",
      "\n",
      "Copyright (c) 1991-2000, University of Groningen, The Netherlands.\n",
      "Copyright (c) 2001-2017, The GROMACS development team at\n",
      "Uppsala University, Stockholm University and\n",
      "the Royal Institute of Technology, Sweden.\n",
      "check out http://www.gromacs.org for more information.\n",
      "\n",
      "GROMACS is free software; you can redistribute it and/or modify it\n",
      "under the terms of the GNU Lesser General Public License\n",
      "as published by the Free Software Foundation; either version 2.1\n",
      "of the License, or (at your option) any later version.\n",
      "\n",
      "GROMACS:      gmx mdrun, version 2018.1\n",
      "Executable:   /Users/ayang41/Programs/gromacs-2018.1/installation/bin/gmx\n",
      "Data prefix:  /Users/ayang41/Programs/gromacs-2018.1/installation\n",
      "Working dir:  /Users/ayang41/Programs/mosdef-workflows/charmm-gui-gmx\n",
      "Command line:\n",
      "  gmx mdrun -deffnm npt\n",
      "\n",
      "\n",
      "Back Off! I just backed up npt.log to ./#npt.log.4#\n",
      "Reading file npt.tpr, VERSION 2018.1 (single precision)\n",
      "Changing nstlist from 10 to 100, rlist from 0.9 to 0.9\n",
      "\n",
      "Using 4 MPI threads\n",
      "\n",
      "Back Off! I just backed up npt.xtc to ./#npt.xtc.4#\n",
      "\n",
      "Back Off! I just backed up npt.edr to ./#npt.edr.4#\n",
      "starting mdrun 'mBuild box of ethane'\n",
      "100 steps,      0.1 ps.\n",
      "\n",
      "Writing final coordinates.\n",
      "\n",
      "Back Off! I just backed up npt.gro to ./#npt.gro.1#\n",
      "\n",
      " Dynamic load balancing report:\n",
      " DLB was off during the run due to low measured imbalance.\n",
      " Average load imbalance: 6.9%.\n",
      " The balanceable part of the MD step is 0%, load imbalance is computed from this.\n",
      " Part of the total run time spent waiting due to load imbalance: 0.0%.\n",
      "\n",
      "\n",
      "               Core t (s)   Wall t (s)        (%)\n",
      "       Time:       24.527        6.132      400.0\n",
      "                 (ns/day)    (hour/ns)\n",
      "Performance:        1.423       16.864\n",
      "\n",
      "GROMACS reminds you: \"When I asked a younger colleague at the university how he had been able to change his research field several times within a decade or so, he answered: \"It's just a question of new software\"\" (Paul Verhaeghe)\n",
      "\n"
     ]
    }
   ],
   "source": [
    "!gmx mdrun -deffnm npt"
   ]
  },
  {
   "cell_type": "markdown",
   "metadata": {},
   "source": [
    "## Analyzing trajectories with MDTraj\n",
    "After performing a simulation, we can read the relevant trajectory files into an `mdtraj.Trajectory` object,\n",
    "an in-memory, digital representation of a trajectory.\n",
    "\n",
    "MDTraj has a variety of functionality, but for convenience we will just compute the density of the system"
   ]
  },
  {
   "cell_type": "code",
   "execution_count": 56,
   "metadata": {},
   "outputs": [],
   "source": [
    "import mdtraj\n",
    "traj = mdtraj.load('npt.xtc', top='npt.gro')\n",
    "rho = mdtraj.density(traj)"
   ]
  },
  {
   "cell_type": "markdown",
   "metadata": {},
   "source": [
    "## Validation and comparison to reference data\n",
    "A reference density-timeseries is located in `files/rho.dat`. \n",
    "We can load the reference data and compare to our simulated reference data."
   ]
  },
  {
   "cell_type": "code",
   "execution_count": 64,
   "metadata": {},
   "outputs": [
    {
     "data": {
      "text/plain": [
       "Text(0.5, 0, 'Time (ps)')"
      ]
     },
     "execution_count": 64,
     "metadata": {},
     "output_type": "execute_result"
    },
    {
     "data": {
      "image/png": "[encoded data removed]",
      "text/plain": [
       "<Figure size 432x288 with 1 Axes>"
      ]
     },
     "metadata": {
      "needs_background": "light"
     },
     "output_type": "display_data"
    }
   ],
   "source": [
    "import numpy as np\n",
    "%matplotlib inline\n",
    "import matplotlib\n",
    "import matplotlib.pyplot as plt\n",
    "\n",
    "ref = np.loadtxt('ref/rho.dat')\n",
    "fig, ax = plt.subplots(1,1)\n",
    "ax.scatter(traj.time, rho, label='Simulated', alpha=0.6)\n",
    "ax.scatter(ref[:,0], ref[:,1], label='Reference', alpha=0.6)\n",
    "ax.legend()\n",
    "ax.set_ylabel(r\"Density (kg m$^{{-3}}$)\")\n",
    "ax.set_xlabel(\"Time (ps)\")"
   ]
  },
  {
   "cell_type": "markdown",
   "metadata": {},
   "source": [
    "## Notes\n",
    "Because of how short the simulation was run, there was actually no box-resizing performed, so the density is constant and the same as how we specified in the mBuild steps (we specified a density of 1, which is consistent with the non-box-altered simulation)"
   ]
  },
  {
   "cell_type": "markdown",
   "metadata": {},
   "source": [
    "# Summary\n",
    "We have neatly conducted and analyzed a simulation from start to finish. \n",
    "We have built and parametrized our system using CHARMM-GUI and mBuild, simulated using GROMACS, and analyzed using MDTraj. \n",
    "Furthermore, there is clear room to work with other force field parameters, molecules, simulation engines, and analysis packages."
   ]
  },
  {
   "cell_type": "code",
   "execution_count": null,
   "metadata": {},
   "outputs": [],
   "source": []
  }
 ],
 "metadata": {
  "kernelspec": {
   "display_name": "Python 3",
   "language": "python",
   "name": "python3"
  },
  "language_info": {
   "codemirror_mode": {
    "name": "ipython",
    "version": 3
   },
   "file_extension": ".py",
   "mimetype": "text/x-python",
   "name": "python",
   "nbconvert_exporter": "python",
   "pygments_lexer": "ipython3",
   "version": "3.6.7"
  }
 },
 "nbformat": 4,
 "nbformat_minor": 2
}
